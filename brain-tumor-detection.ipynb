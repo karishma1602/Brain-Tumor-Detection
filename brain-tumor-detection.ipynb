{
 "cells": [
  {
   "cell_type": "markdown",
   "id": "00d990bd",
   "metadata": {
    "papermill": {
     "duration": 0.007021,
     "end_time": "2023-02-18T06:41:11.003695",
     "exception": false,
     "start_time": "2023-02-18T06:41:10.996674",
     "status": "completed"
    },
    "tags": []
   },
   "source": [
    "## Import Necessary Libraries"
   ]
  },
  {
   "cell_type": "code",
   "execution_count": 1,
   "id": "14712c8a",
   "metadata": {
    "execution": {
     "iopub.execute_input": "2023-02-18T06:41:11.018154Z",
     "iopub.status.busy": "2023-02-18T06:41:11.017560Z",
     "iopub.status.idle": "2023-02-18T06:41:18.326067Z",
     "shell.execute_reply": "2023-02-18T06:41:18.324872Z"
    },
    "papermill": {
     "duration": 7.319091,
     "end_time": "2023-02-18T06:41:18.329285",
     "exception": false,
     "start_time": "2023-02-18T06:41:11.010194",
     "status": "completed"
    },
    "tags": []
   },
   "outputs": [],
   "source": [
    "import numpy as np\n",
    "import matplotlib.pyplot as plt\n",
    "import cv2\n",
    "import os\n",
    "import tensorflow as tf\n",
    "from PIL import Image\n",
    "\n",
    "from sklearn.model_selection import train_test_split\n",
    "\n",
    "from tensorflow.keras.utils import normalize, to_categorical\n",
    "from tensorflow.keras.models import Sequential, load_model\n",
    "from tensorflow.keras.layers import Conv2D, MaxPooling2D, Activation, Dropout, Flatten, Dense \n"
   ]
  },
  {
   "cell_type": "markdown",
   "id": "22c3aca7",
   "metadata": {
    "papermill": {
     "duration": 0.005442,
     "end_time": "2023-02-18T06:41:18.340783",
     "exception": false,
     "start_time": "2023-02-18T06:41:18.335341",
     "status": "completed"
    },
    "tags": []
   },
   "source": [
    "## Load Data"
   ]
  },
  {
   "cell_type": "code",
   "execution_count": 4,
   "id": "3745bf0e",
   "metadata": {
    "execution": {
     "iopub.execute_input": "2023-02-18T06:41:18.354511Z",
     "iopub.status.busy": "2023-02-18T06:41:18.353352Z",
     "iopub.status.idle": "2023-02-18T06:41:18.768412Z",
     "shell.execute_reply": "2023-02-18T06:41:18.767354Z"
    },
    "papermill": {
     "duration": 0.42546,
     "end_time": "2023-02-18T06:41:18.771892",
     "exception": false,
     "start_time": "2023-02-18T06:41:18.346432",
     "status": "completed"
    },
    "tags": []
   },
   "outputs": [
    {
     "name": "stdout",
     "output_type": "stream",
     "text": [
      "No Tumor:  1500\n",
      "Tumor:  1500\n"
     ]
    }
   ],
   "source": [
    "image_directory='mpdataset/'\n",
    "\n",
    "no_tumor_images=os.listdir('no')\n",
    "yes_tumor_images=os.listdir('yes')\n",
    "\n",
    "print('No Tumor: ', len(no_tumor_images))\n",
    "print('Tumor: ',len(yes_tumor_images))"
   ]
  },
  {
   "cell_type": "code",
   "execution_count": 5,
   "id": "e57b0dfa",
   "metadata": {
    "execution": {
     "iopub.execute_input": "2023-02-18T06:41:18.785297Z",
     "iopub.status.busy": "2023-02-18T06:41:18.784941Z",
     "iopub.status.idle": "2023-02-18T06:41:18.790100Z",
     "shell.execute_reply": "2023-02-18T06:41:18.789021Z"
    },
    "papermill": {
     "duration": 0.01381,
     "end_time": "2023-02-18T06:41:18.792389",
     "exception": false,
     "start_time": "2023-02-18T06:41:18.778579",
     "status": "completed"
    },
    "tags": []
   },
   "outputs": [],
   "source": [
    "dataset=[]\n",
    "label=[]\n",
    "\n",
    "INPUT_SIZE=64"
   ]
  },
  {
   "cell_type": "markdown",
   "id": "48fae68d",
   "metadata": {
    "papermill": {
     "duration": 0.005493,
     "end_time": "2023-02-18T06:41:18.803749",
     "exception": false,
     "start_time": "2023-02-18T06:41:18.798256",
     "status": "completed"
    },
    "tags": []
   },
   "source": [
    "## Create labels "
   ]
  },
  {
   "cell_type": "code",
   "execution_count": 7,
   "id": "a933fc46",
   "metadata": {
    "execution": {
     "iopub.execute_input": "2023-02-18T06:41:18.816505Z",
     "iopub.status.busy": "2023-02-18T06:41:18.816090Z",
     "iopub.status.idle": "2023-02-18T06:41:32.089158Z",
     "shell.execute_reply": "2023-02-18T06:41:32.088059Z"
    },
    "papermill": {
     "duration": 13.282627,
     "end_time": "2023-02-18T06:41:32.091898",
     "exception": false,
     "start_time": "2023-02-18T06:41:18.809271",
     "status": "completed"
    },
    "tags": []
   },
   "outputs": [
    {
     "ename": "AttributeError",
     "evalue": "'NoneType' object has no attribute '__array_interface__'",
     "output_type": "error",
     "traceback": [
      "\u001b[1;31m---------------------------------------------------------------------------\u001b[0m",
      "\u001b[1;31mAttributeError\u001b[0m                            Traceback (most recent call last)",
      "Cell \u001b[1;32mIn[7], line 4\u001b[0m\n\u001b[0;32m      2\u001b[0m \u001b[39mif\u001b[39;00m(image_name\u001b[39m.\u001b[39msplit(\u001b[39m'\u001b[39m\u001b[39m.\u001b[39m\u001b[39m'\u001b[39m)[\u001b[39m1\u001b[39m]\u001b[39m==\u001b[39m\u001b[39m'\u001b[39m\u001b[39mjpg\u001b[39m\u001b[39m'\u001b[39m):\n\u001b[0;32m      3\u001b[0m     image\u001b[39m=\u001b[39mcv2\u001b[39m.\u001b[39mimread(image_directory\u001b[39m+\u001b[39m\u001b[39m'\u001b[39m\u001b[39mno/\u001b[39m\u001b[39m'\u001b[39m\u001b[39m+\u001b[39mimage_name)\n\u001b[1;32m----> 4\u001b[0m     image\u001b[39m=\u001b[39mImage\u001b[39m.\u001b[39;49mfromarray(image,\u001b[39m'\u001b[39;49m\u001b[39mRGB\u001b[39;49m\u001b[39m'\u001b[39;49m)\n\u001b[0;32m      5\u001b[0m     image\u001b[39m=\u001b[39mimage\u001b[39m.\u001b[39mresize((INPUT_SIZE,INPUT_SIZE))\n\u001b[0;32m      6\u001b[0m     dataset\u001b[39m.\u001b[39mappend(np\u001b[39m.\u001b[39marray(image))\n",
      "File \u001b[1;32m~\\AppData\\Roaming\\Python\\Python311\\site-packages\\PIL\\Image.py:3069\u001b[0m, in \u001b[0;36mfromarray\u001b[1;34m(obj, mode)\u001b[0m\n\u001b[0;32m   3030\u001b[0m \u001b[39mdef\u001b[39;00m \u001b[39mfromarray\u001b[39m(obj, mode\u001b[39m=\u001b[39m\u001b[39mNone\u001b[39;00m):\n\u001b[0;32m   3031\u001b[0m     \u001b[39m\"\"\"\u001b[39;00m\n\u001b[0;32m   3032\u001b[0m \u001b[39m    Creates an image memory from an object exporting the array interface\u001b[39;00m\n\u001b[0;32m   3033\u001b[0m \u001b[39m    (using the buffer protocol).\u001b[39;00m\n\u001b[1;32m   (...)\u001b[0m\n\u001b[0;32m   3067\u001b[0m \u001b[39m    .. versionadded:: 1.1.6\u001b[39;00m\n\u001b[0;32m   3068\u001b[0m \u001b[39m    \"\"\"\u001b[39;00m\n\u001b[1;32m-> 3069\u001b[0m     arr \u001b[39m=\u001b[39m obj\u001b[39m.\u001b[39;49m__array_interface__\n\u001b[0;32m   3070\u001b[0m     shape \u001b[39m=\u001b[39m arr[\u001b[39m\"\u001b[39m\u001b[39mshape\u001b[39m\u001b[39m\"\u001b[39m]\n\u001b[0;32m   3071\u001b[0m     ndim \u001b[39m=\u001b[39m \u001b[39mlen\u001b[39m(shape)\n",
      "\u001b[1;31mAttributeError\u001b[0m: 'NoneType' object has no attribute '__array_interface__'"
     ]
    }
   ],
   "source": [
    "for i , image_name in enumerate(no_tumor_images):\n",
    "    if(image_name.split('.')[1]=='jpg'):\n",
    "        image=cv2.imread(image_directory+'no/'+image_name)\n",
    "        image=Image.fromarray(image,'RGB')\n",
    "        image=image.resize((INPUT_SIZE,INPUT_SIZE))\n",
    "        dataset.append(np.array(image))\n",
    "        label.append(0)"
   ]
  },
  {
   "cell_type": "code",
   "execution_count": null,
   "id": "c870c431",
   "metadata": {
    "execution": {
     "iopub.execute_input": "2023-02-18T06:41:32.105474Z",
     "iopub.status.busy": "2023-02-18T06:41:32.105013Z",
     "iopub.status.idle": "2023-02-18T06:41:49.182425Z",
     "shell.execute_reply": "2023-02-18T06:41:49.181280Z"
    },
    "papermill": {
     "duration": 17.087052,
     "end_time": "2023-02-18T06:41:49.185136",
     "exception": false,
     "start_time": "2023-02-18T06:41:32.098084",
     "status": "completed"
    },
    "tags": []
   },
   "outputs": [],
   "source": [
    "for i , image_name in enumerate(yes_tumor_images):\n",
    "    if(image_name.split('.')[1]=='jpg'):\n",
    "        image=cv2.imread(image_directory+'yes/'+image_name)\n",
    "        image=Image.fromarray(image, 'RGB')\n",
    "        image=image.resize((INPUT_SIZE,INPUT_SIZE))\n",
    "        dataset.append(np.array(image))\n",
    "        label.append(1)"
   ]
  },
  {
   "cell_type": "code",
   "execution_count": null,
   "id": "9351ac0a",
   "metadata": {
    "execution": {
     "iopub.execute_input": "2023-02-18T06:41:49.199845Z",
     "iopub.status.busy": "2023-02-18T06:41:49.199175Z",
     "iopub.status.idle": "2023-02-18T06:41:49.223431Z",
     "shell.execute_reply": "2023-02-18T06:41:49.221909Z"
    },
    "papermill": {
     "duration": 0.034243,
     "end_time": "2023-02-18T06:41:49.225961",
     "exception": false,
     "start_time": "2023-02-18T06:41:49.191718",
     "status": "completed"
    },
    "tags": []
   },
   "outputs": [
    {
     "ename": "NameError",
     "evalue": "name 'np' is not defined",
     "output_type": "error",
     "traceback": [
      "\u001b[1;31m---------------------------------------------------------------------------\u001b[0m",
      "\u001b[1;31mNameError\u001b[0m                                 Traceback (most recent call last)",
      "Cell \u001b[1;32mIn[3], line 1\u001b[0m\n\u001b[1;32m----> 1\u001b[0m dataset\u001b[38;5;241m=\u001b[39m\u001b[43mnp\u001b[49m\u001b[38;5;241m.\u001b[39marray(dataset)\n",
      "\u001b[1;31mNameError\u001b[0m: name 'np' is not defined"
     ]
    }
   ],
   "source": [
    "dataset=np.array(dataset)\n"
   ]
  },
  {
   "cell_type": "code",
   "execution_count": null,
   "id": "99acf40e",
   "metadata": {},
   "outputs": [
    {
     "name": "stdout",
     "output_type": "stream",
     "text": [
      "Dataset:  3000\n",
      "Label:  3000\n"
     ]
    }
   ],
   "source": [
    "label=np.array(label)\n",
    "\n",
    "print('Dataset: ',len(dataset))\n",
    "print('Label: ',len(label))"
   ]
  },
  {
   "cell_type": "markdown",
   "id": "04f5dadc",
   "metadata": {
    "papermill": {
     "duration": 0.005727,
     "end_time": "2023-02-18T06:41:49.237640",
     "exception": false,
     "start_time": "2023-02-18T06:41:49.231913",
     "status": "completed"
    },
    "tags": []
   },
   "source": [
    "## Train-Test Split"
   ]
  },
  {
   "cell_type": "code",
   "execution_count": null,
   "id": "05cef5b0",
   "metadata": {},
   "outputs": [],
   "source": []
  },
  {
   "cell_type": "code",
   "execution_count": null,
   "id": "83c51ff9",
   "metadata": {
    "execution": {
     "iopub.execute_input": "2023-02-18T06:41:49.250914Z",
     "iopub.status.busy": "2023-02-18T06:41:49.250540Z",
     "iopub.status.idle": "2023-02-18T06:41:49.271461Z",
     "shell.execute_reply": "2023-02-18T06:41:49.270381Z"
    },
    "papermill": {
     "duration": 0.03055,
     "end_time": "2023-02-18T06:41:49.273998",
     "exception": false,
     "start_time": "2023-02-18T06:41:49.243448",
     "status": "completed"
    },
    "tags": []
   },
   "outputs": [],
   "source": [
    "X_train, X_test, y_train, y_test = train_test_split(dataset, label, test_size=0.2, random_state=2023)"
   ]
  },
  {
   "cell_type": "markdown",
   "id": "27cd6544",
   "metadata": {
    "papermill": {
     "duration": 0.00543,
     "end_time": "2023-02-18T06:41:49.285856",
     "exception": false,
     "start_time": "2023-02-18T06:41:49.280426",
     "status": "completed"
    },
    "tags": []
   },
   "source": [
    "## Normalize the Data"
   ]
  },
  {
   "cell_type": "code",
   "execution_count": null,
   "id": "54ef6fbc",
   "metadata": {
    "execution": {
     "iopub.execute_input": "2023-02-18T06:41:49.298606Z",
     "iopub.status.busy": "2023-02-18T06:41:49.298193Z",
     "iopub.status.idle": "2023-02-18T06:41:49.622060Z",
     "shell.execute_reply": "2023-02-18T06:41:49.620881Z"
    },
    "papermill": {
     "duration": 0.333524,
     "end_time": "2023-02-18T06:41:49.625027",
     "exception": false,
     "start_time": "2023-02-18T06:41:49.291503",
     "status": "completed"
    },
    "tags": []
   },
   "outputs": [],
   "source": [
    "X_train = normalize(X_train, axis=1)\n",
    "X_test = normalize(X_test, axis=1)"
   ]
  },
  {
   "cell_type": "markdown",
   "id": "0625c2a4",
   "metadata": {
    "papermill": {
     "duration": 0.00558,
     "end_time": "2023-02-18T06:41:49.637112",
     "exception": false,
     "start_time": "2023-02-18T06:41:49.631532",
     "status": "completed"
    },
    "tags": []
   },
   "source": [
    "## Model Building"
   ]
  },
  {
   "cell_type": "code",
   "execution_count": null,
   "id": "fbd52b17",
   "metadata": {
    "execution": {
     "iopub.execute_input": "2023-02-18T06:41:49.650797Z",
     "iopub.status.busy": "2023-02-18T06:41:49.650391Z",
     "iopub.status.idle": "2023-02-18T06:41:53.203418Z",
     "shell.execute_reply": "2023-02-18T06:41:53.202353Z"
    },
    "papermill": {
     "duration": 3.563033,
     "end_time": "2023-02-18T06:41:53.206289",
     "exception": false,
     "start_time": "2023-02-18T06:41:49.643256",
     "status": "completed"
    },
    "tags": []
   },
   "outputs": [
    {
     "name": "stdout",
     "output_type": "stream",
     "text": [
      "Model: \"sequential\"\n",
      "_________________________________________________________________\n",
      " Layer (type)                Output Shape              Param #   \n",
      "=================================================================\n",
      " conv2d (Conv2D)             (None, 62, 62, 32)        896       \n",
      "                                                                 \n",
      " max_pooling2d (MaxPooling2D  (None, 31, 31, 32)       0         \n",
      " )                                                               \n",
      "                                                                 \n",
      " conv2d_1 (Conv2D)           (None, 29, 29, 32)        9248      \n",
      "                                                                 \n",
      " max_pooling2d_1 (MaxPooling  (None, 14, 14, 32)       0         \n",
      " 2D)                                                             \n",
      "                                                                 \n",
      " conv2d_2 (Conv2D)           (None, 12, 12, 64)        18496     \n",
      "                                                                 \n",
      " max_pooling2d_2 (MaxPooling  (None, 6, 6, 64)         0         \n",
      " 2D)                                                             \n",
      "                                                                 \n",
      " flatten (Flatten)           (None, 2304)              0         \n",
      "                                                                 \n",
      " dense (Dense)               (None, 64)                147520    \n",
      "                                                                 \n",
      " dropout (Dropout)           (None, 64)                0         \n",
      "                                                                 \n",
      " dense_1 (Dense)             (None, 1)                 65        \n",
      "                                                                 \n",
      "=================================================================\n",
      "Total params: 176,225\n",
      "Trainable params: 176,225\n",
      "Non-trainable params: 0\n",
      "_________________________________________________________________\n"
     ]
    }
   ],
   "source": [
    "model=Sequential()\n",
    "\n",
    "model.add(Conv2D(32, (3,3),activation='relu', input_shape=(INPUT_SIZE, INPUT_SIZE, 3)))#relu will convert negative values to 0 and positive remains same\n",
    "model.add(MaxPooling2D(pool_size=(2,2)))#maxpool reduces the size of matrix \n",
    "\n",
    "model.add(Conv2D(32, (3,3),activation='relu', kernel_initializer='he_uniform'))\n",
    "model.add(MaxPooling2D(pool_size=(2,2)))\n",
    "\n",
    "model.add(Conv2D(64, (3,3),activation='relu', kernel_initializer='he_uniform'))\n",
    "model.add(MaxPooling2D(pool_size=(2,2)))\n",
    "\n",
    "model.add(Flatten())\n",
    "model.add(Dense(64,activation='relu'))\n",
    "model.add(Dropout(0.5))\n",
    "model.add(Dense(1,activation='sigmoid'))\n",
    "model.summary()"
   ]
  },
  {
   "cell_type": "code",
   "execution_count": null,
   "id": "f0e39661",
   "metadata": {
    "execution": {
     "iopub.execute_input": "2023-02-18T06:41:53.219555Z",
     "iopub.status.busy": "2023-02-18T06:41:53.219171Z",
     "iopub.status.idle": "2023-02-18T06:41:53.232810Z",
     "shell.execute_reply": "2023-02-18T06:41:53.231904Z"
    },
    "papermill": {
     "duration": 0.022612,
     "end_time": "2023-02-18T06:41:53.234918",
     "exception": false,
     "start_time": "2023-02-18T06:41:53.212306",
     "status": "completed"
    },
    "tags": []
   },
   "outputs": [],
   "source": [
    "# compile the model\n",
    "model.compile(loss='binary_crossentropy',optimizer='adam', metrics=['accuracy'])"
   ]
  },
  {
   "cell_type": "markdown",
   "id": "b05605d8",
   "metadata": {
    "papermill": {
     "duration": 0.005675,
     "end_time": "2023-02-18T06:41:53.246665",
     "exception": false,
     "start_time": "2023-02-18T06:41:53.240990",
     "status": "completed"
    },
    "tags": []
   },
   "source": [
    "## Model Fit"
   ]
  },
  {
   "cell_type": "code",
   "execution_count": null,
   "id": "95f99784",
   "metadata": {
    "execution": {
     "iopub.execute_input": "2023-02-18T06:41:53.259811Z",
     "iopub.status.busy": "2023-02-18T06:41:53.259446Z",
     "iopub.status.idle": "2023-02-18T06:43:16.539576Z",
     "shell.execute_reply": "2023-02-18T06:43:16.538384Z"
    },
    "papermill": {
     "duration": 83.289647,
     "end_time": "2023-02-18T06:43:16.542123",
     "exception": false,
     "start_time": "2023-02-18T06:41:53.252476",
     "status": "completed"
    },
    "tags": []
   },
   "outputs": [
    {
     "name": "stdout",
     "output_type": "stream",
     "text": [
      "Epoch 1/100\n",
      "75/75 [==============================] - 10s 117ms/step - loss: 0.5550 - accuracy: 0.7246 - val_loss: 0.5032 - val_accuracy: 0.7850\n",
      "Epoch 2/100\n",
      "75/75 [==============================] - 9s 124ms/step - loss: 0.4443 - accuracy: 0.7975 - val_loss: 0.3727 - val_accuracy: 0.8450\n",
      "Epoch 3/100\n",
      "75/75 [==============================] - 9s 116ms/step - loss: 0.3471 - accuracy: 0.8508 - val_loss: 0.2949 - val_accuracy: 0.8767\n",
      "Epoch 4/100\n",
      "75/75 [==============================] - 9s 115ms/step - loss: 0.2768 - accuracy: 0.8917 - val_loss: 0.2409 - val_accuracy: 0.9117\n",
      "Epoch 5/100\n",
      "75/75 [==============================] - 9s 121ms/step - loss: 0.1983 - accuracy: 0.9296 - val_loss: 0.1821 - val_accuracy: 0.9317\n",
      "Epoch 6/100\n",
      "75/75 [==============================] - 9s 114ms/step - loss: 0.1468 - accuracy: 0.9504 - val_loss: 0.1636 - val_accuracy: 0.9383\n",
      "Epoch 7/100\n",
      "75/75 [==============================] - 9s 114ms/step - loss: 0.1119 - accuracy: 0.9633 - val_loss: 0.1197 - val_accuracy: 0.9583\n",
      "Epoch 8/100\n",
      "75/75 [==============================] - 9s 114ms/step - loss: 0.0782 - accuracy: 0.9737 - val_loss: 0.1274 - val_accuracy: 0.9517\n",
      "Epoch 9/100\n",
      "75/75 [==============================] - 9s 114ms/step - loss: 0.0668 - accuracy: 0.9767 - val_loss: 0.1194 - val_accuracy: 0.9700\n",
      "Epoch 10/100\n",
      "75/75 [==============================] - 8s 112ms/step - loss: 0.0422 - accuracy: 0.9879 - val_loss: 0.1365 - val_accuracy: 0.9583\n",
      "Epoch 11/100\n",
      "75/75 [==============================] - 8s 112ms/step - loss: 0.0424 - accuracy: 0.9883 - val_loss: 0.1131 - val_accuracy: 0.9733\n",
      "Epoch 12/100\n",
      "75/75 [==============================] - 9s 114ms/step - loss: 0.0269 - accuracy: 0.9929 - val_loss: 0.1057 - val_accuracy: 0.9767\n",
      "Epoch 13/100\n",
      "75/75 [==============================] - 8s 113ms/step - loss: 0.0219 - accuracy: 0.9921 - val_loss: 0.0929 - val_accuracy: 0.9767\n",
      "Epoch 14/100\n",
      "75/75 [==============================] - 9s 114ms/step - loss: 0.0115 - accuracy: 0.9975 - val_loss: 0.1098 - val_accuracy: 0.9800\n",
      "Epoch 15/100\n",
      "75/75 [==============================] - 9s 113ms/step - loss: 0.0107 - accuracy: 0.9967 - val_loss: 0.1177 - val_accuracy: 0.9817\n",
      "Epoch 16/100\n",
      "75/75 [==============================] - 9s 115ms/step - loss: 0.0090 - accuracy: 0.9983 - val_loss: 0.1270 - val_accuracy: 0.9767\n",
      "Epoch 17/100\n",
      "75/75 [==============================] - 9s 114ms/step - loss: 0.0055 - accuracy: 0.9992 - val_loss: 0.1222 - val_accuracy: 0.9817\n",
      "Epoch 18/100\n",
      "75/75 [==============================] - 9s 114ms/step - loss: 0.0045 - accuracy: 0.9992 - val_loss: 0.1364 - val_accuracy: 0.9817\n",
      "Epoch 19/100\n",
      "75/75 [==============================] - 9s 114ms/step - loss: 0.0144 - accuracy: 0.9967 - val_loss: 0.1082 - val_accuracy: 0.9817\n",
      "Epoch 20/100\n",
      "75/75 [==============================] - 9s 121ms/step - loss: 0.0076 - accuracy: 0.9975 - val_loss: 0.1158 - val_accuracy: 0.9817\n",
      "Epoch 21/100\n",
      "75/75 [==============================] - 9s 115ms/step - loss: 0.0047 - accuracy: 0.9983 - val_loss: 0.1361 - val_accuracy: 0.9800\n",
      "Epoch 22/100\n",
      "75/75 [==============================] - 9s 114ms/step - loss: 0.0055 - accuracy: 0.9983 - val_loss: 0.1540 - val_accuracy: 0.9783\n",
      "Epoch 23/100\n",
      "75/75 [==============================] - 9s 114ms/step - loss: 0.0028 - accuracy: 0.9996 - val_loss: 0.1532 - val_accuracy: 0.9800\n",
      "Epoch 24/100\n",
      "75/75 [==============================] - 9s 114ms/step - loss: 0.0016 - accuracy: 1.0000 - val_loss: 0.1622 - val_accuracy: 0.9800\n",
      "Epoch 25/100\n",
      "75/75 [==============================] - 9s 117ms/step - loss: 9.1891e-04 - accuracy: 1.0000 - val_loss: 0.1491 - val_accuracy: 0.9800\n",
      "Epoch 26/100\n",
      "75/75 [==============================] - 9s 115ms/step - loss: 0.0016 - accuracy: 0.9996 - val_loss: 0.1587 - val_accuracy: 0.9800\n",
      "Epoch 27/100\n",
      "75/75 [==============================] - 9s 114ms/step - loss: 0.0023 - accuracy: 0.9996 - val_loss: 0.1453 - val_accuracy: 0.9800\n",
      "Epoch 28/100\n",
      "75/75 [==============================] - 9s 114ms/step - loss: 0.0203 - accuracy: 0.9942 - val_loss: 0.1179 - val_accuracy: 0.9800\n",
      "Epoch 29/100\n",
      "75/75 [==============================] - 9s 116ms/step - loss: 0.0057 - accuracy: 0.9979 - val_loss: 0.1412 - val_accuracy: 0.9800\n",
      "Epoch 30/100\n",
      "75/75 [==============================] - 9s 115ms/step - loss: 0.0021 - accuracy: 1.0000 - val_loss: 0.1357 - val_accuracy: 0.9800\n",
      "Epoch 31/100\n",
      "75/75 [==============================] - 9s 114ms/step - loss: 0.0027 - accuracy: 0.9992 - val_loss: 0.1809 - val_accuracy: 0.9767\n",
      "Epoch 32/100\n",
      "75/75 [==============================] - 9s 114ms/step - loss: 0.0046 - accuracy: 0.9992 - val_loss: 0.1308 - val_accuracy: 0.9767\n",
      "Epoch 33/100\n",
      "75/75 [==============================] - 8s 112ms/step - loss: 0.0122 - accuracy: 0.9975 - val_loss: 0.1597 - val_accuracy: 0.9750\n",
      "Epoch 34/100\n",
      "75/75 [==============================] - 8s 113ms/step - loss: 0.0062 - accuracy: 0.9983 - val_loss: 0.1507 - val_accuracy: 0.9767\n",
      "Epoch 35/100\n",
      "75/75 [==============================] - 8s 112ms/step - loss: 0.0176 - accuracy: 0.9937 - val_loss: 0.1242 - val_accuracy: 0.9800\n",
      "Epoch 36/100\n",
      "75/75 [==============================] - 8s 111ms/step - loss: 0.0140 - accuracy: 0.9971 - val_loss: 0.1115 - val_accuracy: 0.9833\n",
      "Epoch 37/100\n",
      "75/75 [==============================] - 8s 113ms/step - loss: 0.0046 - accuracy: 0.9983 - val_loss: 0.1865 - val_accuracy: 0.9783\n",
      "Epoch 38/100\n",
      "75/75 [==============================] - 8s 112ms/step - loss: 0.0023 - accuracy: 0.9992 - val_loss: 0.1635 - val_accuracy: 0.9833\n",
      "Epoch 39/100\n",
      "75/75 [==============================] - 8s 110ms/step - loss: 8.8800e-04 - accuracy: 1.0000 - val_loss: 0.1884 - val_accuracy: 0.9800\n",
      "Epoch 40/100\n",
      "75/75 [==============================] - 8s 113ms/step - loss: 9.4055e-04 - accuracy: 0.9996 - val_loss: 0.1851 - val_accuracy: 0.9817\n",
      "Epoch 41/100\n",
      "75/75 [==============================] - 8s 111ms/step - loss: 7.8745e-04 - accuracy: 1.0000 - val_loss: 0.1836 - val_accuracy: 0.9817\n",
      "Epoch 42/100\n",
      "75/75 [==============================] - 8s 108ms/step - loss: 3.5625e-04 - accuracy: 1.0000 - val_loss: 0.1835 - val_accuracy: 0.9800\n",
      "Epoch 43/100\n",
      "75/75 [==============================] - 8s 111ms/step - loss: 0.0012 - accuracy: 0.9996 - val_loss: 0.1505 - val_accuracy: 0.9817\n",
      "Epoch 44/100\n",
      "75/75 [==============================] - 8s 112ms/step - loss: 5.2251e-04 - accuracy: 1.0000 - val_loss: 0.1838 - val_accuracy: 0.9817\n",
      "Epoch 45/100\n",
      "75/75 [==============================] - 8s 111ms/step - loss: 2.4079e-04 - accuracy: 1.0000 - val_loss: 0.1899 - val_accuracy: 0.9817\n",
      "Epoch 46/100\n",
      "75/75 [==============================] - 8s 112ms/step - loss: 0.0018 - accuracy: 0.9996 - val_loss: 0.1412 - val_accuracy: 0.9800\n",
      "Epoch 47/100\n",
      "75/75 [==============================] - 8s 111ms/step - loss: 0.0010 - accuracy: 1.0000 - val_loss: 0.1559 - val_accuracy: 0.9833\n",
      "Epoch 48/100\n",
      "75/75 [==============================] - 8s 113ms/step - loss: 8.7849e-04 - accuracy: 1.0000 - val_loss: 0.1987 - val_accuracy: 0.9750\n",
      "Epoch 49/100\n",
      "75/75 [==============================] - 8s 112ms/step - loss: 3.5445e-04 - accuracy: 1.0000 - val_loss: 0.1800 - val_accuracy: 0.9783\n",
      "Epoch 50/100\n",
      "75/75 [==============================] - 8s 111ms/step - loss: 4.5802e-04 - accuracy: 1.0000 - val_loss: 0.1983 - val_accuracy: 0.9767\n",
      "Epoch 51/100\n",
      "75/75 [==============================] - 8s 113ms/step - loss: 2.0357e-04 - accuracy: 1.0000 - val_loss: 0.2017 - val_accuracy: 0.9783\n",
      "Epoch 52/100\n",
      "75/75 [==============================] - 8s 112ms/step - loss: 9.6948e-05 - accuracy: 1.0000 - val_loss: 0.2018 - val_accuracy: 0.9783\n",
      "Epoch 53/100\n",
      "75/75 [==============================] - 8s 112ms/step - loss: 1.0063e-04 - accuracy: 1.0000 - val_loss: 0.2212 - val_accuracy: 0.9783\n",
      "Epoch 54/100\n",
      "75/75 [==============================] - 8s 111ms/step - loss: 4.1805e-05 - accuracy: 1.0000 - val_loss: 0.2171 - val_accuracy: 0.9783\n",
      "Epoch 55/100\n",
      "75/75 [==============================] - 8s 110ms/step - loss: 2.7817e-04 - accuracy: 1.0000 - val_loss: 0.2384 - val_accuracy: 0.9783\n",
      "Epoch 56/100\n",
      "75/75 [==============================] - 8s 110ms/step - loss: 7.1037e-04 - accuracy: 0.9996 - val_loss: 0.1586 - val_accuracy: 0.9783\n",
      "Epoch 57/100\n",
      "75/75 [==============================] - 9s 114ms/step - loss: 0.0014 - accuracy: 0.9996 - val_loss: 0.1694 - val_accuracy: 0.9800\n",
      "Epoch 58/100\n",
      "75/75 [==============================] - 9s 115ms/step - loss: 2.5965e-04 - accuracy: 1.0000 - val_loss: 0.1851 - val_accuracy: 0.9833\n",
      "Epoch 59/100\n",
      "75/75 [==============================] - 8s 112ms/step - loss: 2.4140e-04 - accuracy: 1.0000 - val_loss: 0.2201 - val_accuracy: 0.9833\n",
      "Epoch 60/100\n",
      "75/75 [==============================] - 9s 114ms/step - loss: 0.0010 - accuracy: 0.9996 - val_loss: 0.1908 - val_accuracy: 0.9783\n",
      "Epoch 61/100\n",
      "75/75 [==============================] - 8s 112ms/step - loss: 1.0763e-04 - accuracy: 1.0000 - val_loss: 0.1877 - val_accuracy: 0.9833\n",
      "Epoch 62/100\n",
      "75/75 [==============================] - 9s 114ms/step - loss: 1.4623e-04 - accuracy: 1.0000 - val_loss: 0.2041 - val_accuracy: 0.9817\n",
      "Epoch 63/100\n",
      "75/75 [==============================] - 9s 117ms/step - loss: 5.9875e-05 - accuracy: 1.0000 - val_loss: 0.2081 - val_accuracy: 0.9800\n",
      "Epoch 64/100\n",
      "75/75 [==============================] - 9s 114ms/step - loss: 5.0319e-05 - accuracy: 1.0000 - val_loss: 0.2073 - val_accuracy: 0.9817\n",
      "Epoch 65/100\n",
      "75/75 [==============================] - 9s 117ms/step - loss: 1.3554e-04 - accuracy: 1.0000 - val_loss: 0.2126 - val_accuracy: 0.9817\n",
      "Epoch 66/100\n",
      "75/75 [==============================] - 9s 117ms/step - loss: 4.0078e-05 - accuracy: 1.0000 - val_loss: 0.2244 - val_accuracy: 0.9817\n",
      "Epoch 67/100\n",
      "75/75 [==============================] - 9s 117ms/step - loss: 1.3615e-04 - accuracy: 1.0000 - val_loss: 0.2161 - val_accuracy: 0.9833\n",
      "Epoch 68/100\n",
      "75/75 [==============================] - 9s 114ms/step - loss: 7.2283e-05 - accuracy: 1.0000 - val_loss: 0.2362 - val_accuracy: 0.9817\n",
      "Epoch 69/100\n",
      "75/75 [==============================] - 8s 113ms/step - loss: 3.8858e-05 - accuracy: 1.0000 - val_loss: 0.2334 - val_accuracy: 0.9817\n",
      "Epoch 70/100\n",
      "75/75 [==============================] - 8s 112ms/step - loss: 6.7777e-05 - accuracy: 1.0000 - val_loss: 0.2402 - val_accuracy: 0.9800\n",
      "Epoch 71/100\n",
      "75/75 [==============================] - 9s 114ms/step - loss: 4.3748e-05 - accuracy: 1.0000 - val_loss: 0.2456 - val_accuracy: 0.9800\n",
      "Epoch 72/100\n",
      "75/75 [==============================] - 9s 115ms/step - loss: 3.8073e-05 - accuracy: 1.0000 - val_loss: 0.2540 - val_accuracy: 0.9800\n",
      "Epoch 73/100\n",
      "75/75 [==============================] - 9s 115ms/step - loss: 0.0627 - accuracy: 0.9846 - val_loss: 0.1455 - val_accuracy: 0.9683\n",
      "Epoch 74/100\n",
      "75/75 [==============================] - 8s 112ms/step - loss: 0.0416 - accuracy: 0.9871 - val_loss: 0.1648 - val_accuracy: 0.9717\n",
      "Epoch 75/100\n",
      "75/75 [==============================] - 8s 113ms/step - loss: 0.0168 - accuracy: 0.9946 - val_loss: 0.1776 - val_accuracy: 0.9783\n",
      "Epoch 76/100\n",
      "75/75 [==============================] - 8s 111ms/step - loss: 0.0070 - accuracy: 0.9979 - val_loss: 0.1795 - val_accuracy: 0.9800\n",
      "Epoch 77/100\n",
      "75/75 [==============================] - 8s 111ms/step - loss: 0.0033 - accuracy: 0.9996 - val_loss: 0.1957 - val_accuracy: 0.9817\n",
      "Epoch 78/100\n",
      "75/75 [==============================] - 9s 123ms/step - loss: 0.0012 - accuracy: 0.9996 - val_loss: 0.2113 - val_accuracy: 0.9783\n",
      "Epoch 79/100\n",
      "75/75 [==============================] - 9s 123ms/step - loss: 0.0015 - accuracy: 1.0000 - val_loss: 0.2017 - val_accuracy: 0.9817\n",
      "Epoch 80/100\n",
      "75/75 [==============================] - 9s 121ms/step - loss: 0.0058 - accuracy: 0.9983 - val_loss: 0.1763 - val_accuracy: 0.9800\n",
      "Epoch 81/100\n",
      "75/75 [==============================] - 9s 123ms/step - loss: 0.0018 - accuracy: 1.0000 - val_loss: 0.1710 - val_accuracy: 0.9833\n",
      "Epoch 82/100\n",
      "75/75 [==============================] - 9s 124ms/step - loss: 9.0694e-04 - accuracy: 1.0000 - val_loss: 0.2067 - val_accuracy: 0.9817\n",
      "Epoch 83/100\n",
      "75/75 [==============================] - 9s 124ms/step - loss: 3.0411e-04 - accuracy: 1.0000 - val_loss: 0.2200 - val_accuracy: 0.9817\n",
      "Epoch 84/100\n",
      "75/75 [==============================] - 9s 124ms/step - loss: 4.4165e-04 - accuracy: 1.0000 - val_loss: 0.2222 - val_accuracy: 0.9817\n",
      "Epoch 85/100\n",
      "75/75 [==============================] - 9s 123ms/step - loss: 5.4164e-04 - accuracy: 0.9996 - val_loss: 0.2256 - val_accuracy: 0.9833\n",
      "Epoch 86/100\n",
      "75/75 [==============================] - 9s 124ms/step - loss: 2.2507e-04 - accuracy: 1.0000 - val_loss: 0.2211 - val_accuracy: 0.9833\n",
      "Epoch 87/100\n",
      "75/75 [==============================] - 9s 124ms/step - loss: 5.9534e-04 - accuracy: 1.0000 - val_loss: 0.2121 - val_accuracy: 0.9833\n",
      "Epoch 88/100\n",
      "75/75 [==============================] - 9s 124ms/step - loss: 0.0021 - accuracy: 0.9992 - val_loss: 0.2011 - val_accuracy: 0.9833\n",
      "Epoch 89/100\n",
      "75/75 [==============================] - 9s 122ms/step - loss: 0.0075 - accuracy: 0.9971 - val_loss: 0.1756 - val_accuracy: 0.9800\n",
      "Epoch 90/100\n",
      "75/75 [==============================] - 9s 123ms/step - loss: 0.0132 - accuracy: 0.9946 - val_loss: 0.1556 - val_accuracy: 0.9783\n",
      "Epoch 91/100\n",
      "75/75 [==============================] - 9s 123ms/step - loss: 0.0161 - accuracy: 0.9958 - val_loss: 0.2396 - val_accuracy: 0.9633\n",
      "Epoch 92/100\n",
      "75/75 [==============================] - 9s 123ms/step - loss: 0.0102 - accuracy: 0.9975 - val_loss: 0.1859 - val_accuracy: 0.9817\n",
      "Epoch 93/100\n",
      "75/75 [==============================] - 9s 124ms/step - loss: 0.0031 - accuracy: 0.9992 - val_loss: 0.2393 - val_accuracy: 0.9767\n",
      "Epoch 94/100\n",
      "75/75 [==============================] - 10s 131ms/step - loss: 0.0018 - accuracy: 0.9996 - val_loss: 0.2279 - val_accuracy: 0.9833\n",
      "Epoch 95/100\n",
      "75/75 [==============================] - 9s 125ms/step - loss: 0.0090 - accuracy: 0.9975 - val_loss: 0.1689 - val_accuracy: 0.9767\n",
      "Epoch 96/100\n",
      "75/75 [==============================] - 9s 126ms/step - loss: 0.0129 - accuracy: 0.9950 - val_loss: 0.1788 - val_accuracy: 0.9800\n",
      "Epoch 97/100\n",
      "75/75 [==============================] - 10s 132ms/step - loss: 0.0049 - accuracy: 0.9983 - val_loss: 0.1889 - val_accuracy: 0.9800\n",
      "Epoch 98/100\n",
      "75/75 [==============================] - 10s 127ms/step - loss: 5.7984e-04 - accuracy: 1.0000 - val_loss: 0.2207 - val_accuracy: 0.9800\n",
      "Epoch 99/100\n",
      "75/75 [==============================] - 9s 126ms/step - loss: 5.5824e-04 - accuracy: 0.9996 - val_loss: 0.2283 - val_accuracy: 0.9800\n",
      "Epoch 100/100\n",
      "75/75 [==============================] - 9s 125ms/step - loss: 5.1742e-04 - accuracy: 1.0000 - val_loss: 0.2309 - val_accuracy: 0.9800\n"
     ]
    },
    {
     "data": {
      "text/plain": [
       "<keras.callbacks.History at 0x1ed64b03d90>"
      ]
     },
     "execution_count": 11,
     "metadata": {},
     "output_type": "execute_result"
    }
   ],
   "source": [
    "model.fit(X_train, y_train, \n",
    "batch_size=32, \n",
    "verbose=1, epochs=100, \n",
    "validation_data=(X_test, y_test),\n",
    "shuffle=False)"
   ]
  },
  {
   "cell_type": "markdown",
   "id": "4de020e6",
   "metadata": {
    "papermill": {
     "duration": 0.069932,
     "end_time": "2023-02-18T06:43:16.681028",
     "exception": false,
     "start_time": "2023-02-18T06:43:16.611096",
     "status": "completed"
    },
    "tags": []
   },
   "source": [
    "## Save the Model"
   ]
  },
  {
   "cell_type": "code",
   "execution_count": null,
   "id": "5badcaaa",
   "metadata": {
    "execution": {
     "iopub.execute_input": "2023-02-18T06:43:16.818195Z",
     "iopub.status.busy": "2023-02-18T06:43:16.817822Z",
     "iopub.status.idle": "2023-02-18T06:43:16.858783Z",
     "shell.execute_reply": "2023-02-18T06:43:16.857659Z"
    },
    "papermill": {
     "duration": 0.112332,
     "end_time": "2023-02-18T06:43:16.861541",
     "exception": false,
     "start_time": "2023-02-18T06:43:16.749209",
     "status": "completed"
    },
    "tags": []
   },
   "outputs": [],
   "source": [
    "model.save('BrainTumorDetection.h5')"
   ]
  },
  {
   "cell_type": "markdown",
   "id": "a30ce0fe",
   "metadata": {
    "papermill": {
     "duration": 0.067687,
     "end_time": "2023-02-18T06:43:16.995568",
     "exception": false,
     "start_time": "2023-02-18T06:43:16.927881",
     "status": "completed"
    },
    "tags": []
   },
   "source": [
    "## Load Model "
   ]
  },
  {
   "cell_type": "code",
   "execution_count": null,
   "id": "596c7294",
   "metadata": {
    "execution": {
     "iopub.execute_input": "2023-02-18T06:43:17.137030Z",
     "iopub.status.busy": "2023-02-18T06:43:17.135843Z",
     "iopub.status.idle": "2023-02-18T06:43:17.281254Z",
     "shell.execute_reply": "2023-02-18T06:43:17.280182Z"
    },
    "papermill": {
     "duration": 0.219138,
     "end_time": "2023-02-18T06:43:17.284127",
     "exception": false,
     "start_time": "2023-02-18T06:43:17.064989",
     "status": "completed"
    },
    "tags": []
   },
   "outputs": [],
   "source": [
    "model = load_model('BrainTumorDetection.h5')"
   ]
  },
  {
   "cell_type": "markdown",
   "id": "3598f7de",
   "metadata": {
    "papermill": {
     "duration": 0.068265,
     "end_time": "2023-02-18T06:43:17.421278",
     "exception": false,
     "start_time": "2023-02-18T06:43:17.353013",
     "status": "completed"
    },
    "tags": []
   },
   "source": [
    "## Make Prediction on New Data"
   ]
  },
  {
   "cell_type": "code",
   "execution_count": null,
   "id": "b50bd237",
   "metadata": {
    "execution": {
     "iopub.execute_input": "2023-02-18T06:43:17.561371Z",
     "iopub.status.busy": "2023-02-18T06:43:17.560961Z",
     "iopub.status.idle": "2023-02-18T06:43:17.566491Z",
     "shell.execute_reply": "2023-02-18T06:43:17.565273Z"
    },
    "papermill": {
     "duration": 0.077228,
     "end_time": "2023-02-18T06:43:17.568873",
     "exception": false,
     "start_time": "2023-02-18T06:43:17.491645",
     "status": "completed"
    },
    "tags": []
   },
   "outputs": [],
   "source": [
    "def make_prediction(img):\n",
    "    \n",
    "    input_img = np.expand_dims(img, axis=0)\n",
    "    \n",
    "    res = (model.predict(input_img) > 0.5).astype(\"int32\")\n",
    "    return res"
   ]
  },
  {
   "cell_type": "code",
   "execution_count": null,
   "id": "e7d87043",
   "metadata": {
    "execution": {
     "iopub.execute_input": "2023-02-18T06:43:17.704424Z",
     "iopub.status.busy": "2023-02-18T06:43:17.704029Z",
     "iopub.status.idle": "2023-02-18T06:43:17.711950Z",
     "shell.execute_reply": "2023-02-18T06:43:17.710974Z"
    },
    "papermill": {
     "duration": 0.078264,
     "end_time": "2023-02-18T06:43:17.714135",
     "exception": false,
     "start_time": "2023-02-18T06:43:17.635871",
     "status": "completed"
    },
    "tags": []
   },
   "outputs": [],
   "source": [
    "def show_result(img):\n",
    "    img_path = f\"{image_directory}pred/{img}\"\n",
    "    image = cv2.imread(img_path)\n",
    "\n",
    "    img = Image.fromarray(image)\n",
    "\n",
    "    img = img.resize((64,64))\n",
    "\n",
    "    img = np.array(img)\n",
    "    \n",
    "    plt.imshow(img)\n",
    "    plt.show()\n",
    "    \n",
    "    pred = make_prediction(img)\n",
    "    if pred:\n",
    "        print(\"Tumor Detected\")\n",
    "    else:\n",
    "        print(\"No Tumor\")\n"
   ]
  },
  {
   "cell_type": "code",
   "execution_count": null,
   "id": "994cfd92",
   "metadata": {
    "execution": {
     "iopub.execute_input": "2023-02-18T06:43:17.848631Z",
     "iopub.status.busy": "2023-02-18T06:43:17.848200Z",
     "iopub.status.idle": "2023-02-18T06:43:18.316952Z",
     "shell.execute_reply": "2023-02-18T06:43:18.315763Z"
    },
    "papermill": {
     "duration": 0.538799,
     "end_time": "2023-02-18T06:43:18.319396",
     "exception": false,
     "start_time": "2023-02-18T06:43:17.780597",
     "status": "completed"
    },
    "tags": []
   },
   "outputs": [
    {
     "data": {
      "image/png": "[encoded data removed]",
      "text/plain": [
       "<Figure size 640x480 with 1 Axes>"
      ]
     },
     "metadata": {},
     "output_type": "display_data"
    },
    {
     "name": "stdout",
     "output_type": "stream",
     "text": [
      "1/1 [==============================] - 0s 94ms/step\n",
      "Tumor Detected\n"
     ]
    }
   ],
   "source": [
    "show_result('pred8.jpg')"
   ]
  },
  {
   "cell_type": "code",
   "execution_count": null,
   "id": "62aac963",
   "metadata": {
    "papermill": {
     "duration": 0.068675,
     "end_time": "2023-02-18T06:43:18.453816",
     "exception": false,
     "start_time": "2023-02-18T06:43:18.385141",
     "status": "completed"
    },
    "tags": []
   },
   "outputs": [],
   "source": []
  },
  {
   "cell_type": "code",
   "execution_count": null,
   "id": "cccfe10f",
   "metadata": {},
   "outputs": [],
   "source": []
  }
 ],
 "metadata": {
  "kernelspec": {
   "display_name": "Python 3",
   "language": "python",
   "name": "python3"
  },
  "language_info": {
   "codemirror_mode": {
    "name": "ipython",
    "version": 3
   },
   "file_extension": ".py",
   "mimetype": "text/x-python",
   "name": "python",
   "nbconvert_exporter": "python",
   "pygments_lexer": "ipython3",
   "version": "3.11.0"
  },
  "papermill": {
   "default_parameters": {},
   "duration": 139.425532,
   "end_time": "2023-02-18T06:43:22.060310",
   "environment_variables": {},
   "exception": null,
   "input_path": "__notebook__.ipynb",
   "output_path": "__notebook__.ipynb",
   "parameters": {},
   "start_time": "2023-02-18T06:41:02.634778",
   "version": "2.3.4"
  },
  "vscode": {
   "interpreter": {
    "hash": "5238573367df39f7286bb46f9ff5f08f63a01a80960060ce41e3c79b190280fa"
   }
  }
 },
 "nbformat": 4,
 "nbformat_minor": 5
}
